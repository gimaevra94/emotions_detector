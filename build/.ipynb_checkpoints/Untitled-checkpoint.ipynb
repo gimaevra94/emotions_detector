{
 "cells": [
  {
   "cell_type": "code",
   "execution_count": 9,
   "id": "5493ccf0",
   "metadata": {},
   "outputs": [],
   "source": [
    "import tensorflow as tf\n",
    "import matplotlib.pyplot as plt\n",
    "import os\n",
    "import numpy as np\n",
    "from PIL import Image"
   ]
  },
  {
   "cell_type": "code",
   "execution_count": 67,
   "id": "c1e80e07",
   "metadata": {},
   "outputs": [
    {
     "data": {
      "text/plain": [
       "['anger', 'fear', 'happy', 'neutral', 'sad', 'suprise']"
      ]
     },
     "execution_count": 67,
     "metadata": {},
     "output_type": "execute_result"
    }
   ],
   "source": [
    "path='C:/Users/gimaevra94/Documents/LocalHub/emotions_detector/data/test/'\n",
    "os.listdir(path)"
   ]
  },
  {
   "cell_type": "code",
   "execution_count": 82,
   "id": "d310023c",
   "metadata": {},
   "outputs": [
    {
     "ename": "TypeError",
     "evalue": "list indices must be integers or slices, not str",
     "output_type": "error",
     "traceback": [
      "\u001b[1;31m---------------------------------------------------------------------------\u001b[0m",
      "\u001b[1;31mTypeError\u001b[0m                                 Traceback (most recent call last)",
      "Cell \u001b[1;32mIn[82], line 6\u001b[0m\n\u001b[0;32m      4\u001b[0m arr2\u001b[38;5;241m=\u001b[39mpath\u001b[38;5;241m+\u001b[39marr1[i]\n\u001b[0;32m      5\u001b[0m \u001b[38;5;28;01mfor\u001b[39;00m q,q2 \u001b[38;5;129;01min\u001b[39;00m \u001b[38;5;28menumerate\u001b[39m(os\u001b[38;5;241m.\u001b[39mlistdir(arr2)):\n\u001b[1;32m----> 6\u001b[0m     img_as_array\u001b[38;5;241m.\u001b[39mappend([np\u001b[38;5;241m.\u001b[39masarray(Image\u001b[38;5;241m.\u001b[39mopen(path\u001b[38;5;241m+\u001b[39mos\u001b[38;5;241m.\u001b[39mlistdir(arr2)[q2]))[\u001b[38;5;241m.\u001b[39m\u001b[38;5;241m.\u001b[39m\u001b[38;5;241m.\u001b[39m,\u001b[38;5;28;01mNone\u001b[39;00m]\u001b[38;5;241m/\u001b[39m\u001b[38;5;241m255.0\u001b[39m,\u001b[38;5;241m0\u001b[39m])\n",
      "\u001b[1;31mTypeError\u001b[0m: list indices must be integers or slices, not str"
     ]
    }
   ],
   "source": [
    "path='C:/Users/gimaevra94/Documents/LocalHub/emotions_detector/data/test/'\n",
    "arr1=os.listdir(path)\n",
    "for i,i2 in enumerate(arr1):\n",
    "    arr2=path+arr1[i]\n",
    "    for q,q2 in enumerate(os.listdir(arr2)):\n",
    "        img_as_array.append([np.asarray(Image.open(path+os.listdir(arr2)[q2]))[...,None]/255.0,0])"
   ]
  },
  {
   "cell_type": "code",
   "execution_count": 57,
   "id": "eb6be549",
   "metadata": {
    "scrolled": true
   },
   "outputs": [],
   "source": [
    "path='C:/Users/gimaevra94/Documents/LocalHub/emotions_detector/data/test/anger/'\n",
    "img_as_array=list()\n",
    "arr=os.listdir(path)\n",
    "for i,i2 in enumerate(arr):\n",
    "    img_as_array.append([np.asarray(Image.open(path+arr[i]))[...,None]/255.0,0])"
   ]
  }
 ],
 "metadata": {
  "kernelspec": {
   "display_name": "Python 3 (ipykernel)",
   "language": "python",
   "name": "python3"
  },
  "language_info": {
   "codemirror_mode": {
    "name": "ipython",
    "version": 3
   },
   "file_extension": ".py",
   "mimetype": "text/x-python",
   "name": "python",
   "nbconvert_exporter": "python",
   "pygments_lexer": "ipython3",
   "version": "3.11.5"
  }
 },
 "nbformat": 4,
 "nbformat_minor": 5
}
