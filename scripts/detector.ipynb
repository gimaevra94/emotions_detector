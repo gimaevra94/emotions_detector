{
 "cells": [
  {
   "cell_type": "code",
   "execution_count": 4,
   "id": "b20d03b7",
   "metadata": {
    "id": "b20d03b7"
   },
   "outputs": [],
   "source": [
    "from cv2 import namedWindow, VideoCapture, cvtColor, COLOR_BGR2RGB, addWeighted, imshow, waitKey, destroyAllWindows\n",
    "from PIL import Image\n",
    "from tensorflow import expand_dims\n",
    "from numpy import argmax, asarray, load\n",
    "import cv2\n",
    "from tensorflow.keras.models import load_model\n",
    "from os import path"
   ]
  },
  {
   "cell_type": "code",
   "execution_count": 5,
   "id": "02cf290f",
   "metadata": {
    "scrolled": true
   },
   "outputs": [
    {
     "ename": "FileNotFoundError",
     "evalue": "[Errno 2] No such file or directory: 'detector2.ipynb'",
     "output_type": "error",
     "traceback": [
      "\u001b[1;31m---------------------------------------------------------------------------\u001b[0m",
      "\u001b[1;31mFileNotFoundError\u001b[0m                         Traceback (most recent call last)",
      "Cell \u001b[1;32mIn[5], line 2\u001b[0m\n\u001b[0;32m      1\u001b[0m \u001b[38;5;66;03m# получение пути исполняемого файла\u001b[39;00m\n\u001b[1;32m----> 2\u001b[0m detector2_path\u001b[38;5;241m=\u001b[39mpath\u001b[38;5;241m.\u001b[39mabspath(\u001b[38;5;28mopen\u001b[39m(\u001b[38;5;124m'\u001b[39m\u001b[38;5;124mdetector2.ipynb\u001b[39m\u001b[38;5;124m'\u001b[39m)\u001b[38;5;241m.\u001b[39mname)\n\u001b[0;32m      4\u001b[0m \u001b[38;5;66;03m# получение директории исполняемого файла\u001b[39;00m\n\u001b[0;32m      5\u001b[0m main_dir_path\u001b[38;5;241m=\u001b[39mpath\u001b[38;5;241m.\u001b[39mdirname(path\u001b[38;5;241m.\u001b[39mabspath(detector2_path))\n",
      "File \u001b[1;32mC:\\ProgramData\\anaconda3\\Lib\\site-packages\\IPython\\core\\interactiveshell.py:286\u001b[0m, in \u001b[0;36m_modified_open\u001b[1;34m(file, *args, **kwargs)\u001b[0m\n\u001b[0;32m    279\u001b[0m \u001b[38;5;28;01mif\u001b[39;00m file \u001b[38;5;129;01min\u001b[39;00m {\u001b[38;5;241m0\u001b[39m, \u001b[38;5;241m1\u001b[39m, \u001b[38;5;241m2\u001b[39m}:\n\u001b[0;32m    280\u001b[0m     \u001b[38;5;28;01mraise\u001b[39;00m \u001b[38;5;167;01mValueError\u001b[39;00m(\n\u001b[0;32m    281\u001b[0m         \u001b[38;5;124mf\u001b[39m\u001b[38;5;124m\"\u001b[39m\u001b[38;5;124mIPython won\u001b[39m\u001b[38;5;124m'\u001b[39m\u001b[38;5;124mt let you open fd=\u001b[39m\u001b[38;5;132;01m{\u001b[39;00mfile\u001b[38;5;132;01m}\u001b[39;00m\u001b[38;5;124m by default \u001b[39m\u001b[38;5;124m\"\u001b[39m\n\u001b[0;32m    282\u001b[0m         \u001b[38;5;124m\"\u001b[39m\u001b[38;5;124mas it is likely to crash IPython. If you know what you are doing, \u001b[39m\u001b[38;5;124m\"\u001b[39m\n\u001b[0;32m    283\u001b[0m         \u001b[38;5;124m\"\u001b[39m\u001b[38;5;124myou can use builtins\u001b[39m\u001b[38;5;124m'\u001b[39m\u001b[38;5;124m open.\u001b[39m\u001b[38;5;124m\"\u001b[39m\n\u001b[0;32m    284\u001b[0m     )\n\u001b[1;32m--> 286\u001b[0m \u001b[38;5;28;01mreturn\u001b[39;00m io_open(file, \u001b[38;5;241m*\u001b[39margs, \u001b[38;5;241m*\u001b[39m\u001b[38;5;241m*\u001b[39mkwargs)\n",
      "\u001b[1;31mFileNotFoundError\u001b[0m: [Errno 2] No such file or directory: 'detector2.ipynb'"
     ]
    }
   ],
   "source": [
    "# получение пути исполняемого файла\n",
    "detector2_path=path.abspath(open('detector2.ipynb').name)\n",
    "\n",
    "# получение директории исполняемого файла\n",
    "main_dir_path=path.dirname(path.abspath(detector2_path))\n",
    "\n",
    "# получение пути emoji_array.npy\n",
    "emoji_array_path=path.join(main_dir_path, 'emoji_array.npy')\n",
    "\n",
    "# получение пути model.h5\n",
    "model_path=path.join(main_dir_path, 'model.h5')"
   ]
  },
  {
   "cell_type": "code",
   "execution_count": null,
   "id": "401746dc",
   "metadata": {},
   "outputs": [],
   "source": [
    "# получение массива emoji модели\n",
    "emoji_array=load(emoji_array_path)\n",
    "model=load_model(model_path)"
   ]
  },
  {
   "cell_type": "code",
   "execution_count": null,
   "id": "b95e07d4",
   "metadata": {
    "id": "b95e07d4",
    "scrolled": false
   },
   "outputs": [],
   "source": [
    "# создание окна трансляции с камеры\n",
    "namedWindow('Emotion Detector')\n",
    "\n",
    "# получение первой в списке камеры\n",
    "cap=VideoCapture(0)\n",
    "\n",
    "while True:\n",
    "    # считывание кадров (frame) с камеры\n",
    "    ret, frame=cap.read()\n",
    "    \n",
    "    # преобразование кадров в однокональные изображения\n",
    "    frame_2 = frame[0:len(frame[1]),0:len(frame[0]),1]\n",
    "    \n",
    "    # преобразование кадров в формат для PIL\n",
    "    img = Image.fromarray(frame_2)\n",
    "    \n",
    "    # преобразование кадров в равносторонние изображения размером 48 на 48\n",
    "    if img.size[0]>48 or if img.size[1]>48:\n",
    "        if img.size[0]>img.size[1]:\n",
    "            left=(img.size[0]-img.size[1])/2\n",
    "            right=img.size[0]-left\n",
    "        else:\n",
    "            left=(img.size[1]-img.size[0])/2\n",
    "            right=img.size[1]-left\n",
    "            \n",
    "    img = img.crop((left,0,right,img.size[1])).resize((48,48))\n",
    "        \n",
    "    # преобразование кадров в формат для tensorflow\n",
    "    img = expand_dims(asarray(img), axis = 0)\n",
    "    \n",
    "    # предстказание\n",
    "    img = emoji_array[argmax(model.predict(img))]\n",
    "    \n",
    "    # преобразование предстказания в трехканальное изображение\n",
    "    img = cvtColor(img, COLOR_BGR2RGB)\n",
    "    \n",
    "    # наложение изоображения предстказания на трансляцию камеры\n",
    "    result = addWeighted(frame[320:480, 480:640],1, img, 0.5, 0)\n",
    "    frame[320:480, 480:640] = result\n",
    "    \n",
    "    # отрисовка frame со всеми вышеуказанными преобразованиями в реальном времени в окне namedWindow('Emotion Detector')\n",
    "    imshow('Emotion Detector', frame)\n",
    "    \n",
    "    # остановка программы по нажатию escape\n",
    "    if waitKey(1)==27:\n",
    "        break\n",
    "\n",
    "# освобождение камеры\n",
    "cap.release()\n",
    "\n",
    "# закрытие окна\n",
    "destroyAllWindows()"
   ]
  }
 ],
 "metadata": {
  "accelerator": "GPU",
  "colab": {
   "gpuType": "T4",
   "provenance": []
  },
  "kernelspec": {
   "display_name": "Python 3 (ipykernel)",
   "language": "python",
   "name": "python3"
  },
  "language_info": {
   "codemirror_mode": {
    "name": "ipython",
    "version": 3
   },
   "file_extension": ".py",
   "mimetype": "text/x-python",
   "name": "python",
   "nbconvert_exporter": "python",
   "pygments_lexer": "ipython3",
   "version": "3.11.5"
  }
 },
 "nbformat": 4,
 "nbformat_minor": 5
}
