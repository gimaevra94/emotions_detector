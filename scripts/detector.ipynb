{
 "cells": [
  {
   "cell_type": "code",
   "execution_count": null,
   "id": "b20d03b7",
   "metadata": {},
   "outputs": [],
   "source": [
    "from tensorflow.keras.models import load_model\n",
    "from tensorflow import expand_dims\n",
    "\n",
    "from google.colab import drive\n",
    "from google.colab.output import eval_js\n",
    "\n",
    "from IPython.display import display, Javascript\n",
    "from IPython.display import Image\n",
    "\n",
    "from base64 import b64decode\n",
    "from PIL.Image importn fromarray\n",
    "from numpy import argmax, asanyarray"
   ]
  },
  {
   "cell_type": "code",
   "execution_count": null,
   "id": "de691664",
   "metadata": {},
   "outputs": [],
   "source": [
    "drive.mount('/content/drive')"
   ]
  },
  {
   "cell_type": "code",
   "execution_count": null,
   "id": "71e1d14e",
   "metadata": {},
   "outputs": [],
   "source": [
    "emoji_array = np.load('/content/drive/MyDrive/portfolio/emotion_detector/data/emoji_array.npy')\n",
    "model = load_model('C:/Users/noname1209140143/code/emotions_detector/models/model.keras')"
   ]
  },
  {
   "cell_type": "code",
   "execution_count": null,
   "id": "2271c098",
   "metadata": {},
   "outputs": [],
   "source": [
    "def take_photo(filename='photo.jpg', quality=0.8):\n",
    "  js = Javascript('''\n",
    "    async function takePhoto(quality) {\n",
    "      const div = document.createElement('div');\n",
    "      const capture = document.createElement('button');\n",
    "      capture.textContent = 'Capture';\n",
    "      div.appendChild(capture);\n",
    "\n",
    "      const video = document.createElement('video');\n",
    "      video.style.display = 'block';\n",
    "      const stream = await navigator.mediaDevices.getUserMedia({video: true});\n",
    "\n",
    "      document.body.appendChild(div);\n",
    "      div.appendChild(video);\n",
    "      video.srcObject = stream;\n",
    "      await video.play();\n",
    "\n",
    "      // Resize the output to fit the video element.\n",
    "      google.colab.output.setIframeHeight(document.documentElement.scrollHeight, true);\n",
    "\n",
    "      // Wait for Capture to be clicked.\n",
    "      await new Promise((resolve) => capture.onclick = resolve);\n",
    "\n",
    "      const canvas = document.createElement('canvas');\n",
    "      canvas.width = video.videoWidth;\n",
    "      canvas.height = video.videoHeight;\n",
    "      canvas.getContext('2d').drawImage(video, 0, 0);\n",
    "      stream.getVideoTracks()[0].stop();\n",
    "      div.remove();\n",
    "      return canvas.toDataURL('image/jpeg', quality);\n",
    "    }\n",
    "    ''')\n",
    "  display(js)\n",
    "  data = eval_js('takePhoto({})'.format(quality))\n",
    "  binary = b64decode(data.split(',')[1])\n",
    "  with open(filename, 'wb') as f:\n",
    "    f.write(binary)\n",
    "  return filename"
   ]
  },
  {
   "cell_type": "code",
   "execution_count": null,
   "id": "c0a1b98e",
   "metadata": {},
   "outputs": [],
   "source": [
    "filename = take_photo()\n",
    "display(Image(filename))"
   ]
  },
  {
   "cell_type": "code",
   "execution_count": null,
   "id": "40caac9f",
   "metadata": {},
   "outputs": [],
   "source": [
    "img = fromarray(frame_2)    \n",
    "    if img.size[0] > 64:\n",
    "        left = (img.size[0] - img.size[1]) / 2\n",
    "        right = img.size[0] - left\n",
    "        img = img.crop((left,0,right,img.size[1])).resize((64,64))\n",
    "    img = expand_dims(asarray(img), axis = 0)\n",
    "    img = emoji_array[argmax(model.predict(img))]"
   ]
  }
 ],
 "metadata": {
  "kernelspec": {
   "display_name": "Python 3 (ipykernel)",
   "language": "python",
   "name": "python3"
  },
  "language_info": {
   "codemirror_mode": {
    "name": "ipython",
    "version": 3
   },
   "file_extension": ".py",
   "mimetype": "text/x-python",
   "name": "python",
   "nbconvert_exporter": "python",
   "pygments_lexer": "ipython3",
   "version": "3.11.4"
  }
 },
 "nbformat": 4,
 "nbformat_minor": 5
}
