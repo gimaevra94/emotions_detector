{
 "cells": [
  {
   "cell_type": "code",
   "execution_count": null,
   "id": "98c214b0",
   "metadata": {
    "scrolled": true
   },
   "outputs": [],
   "source": [
    "'''emoji_paths_list = [\n",
    "    pathlib.Path('C:/Users/gimaevra94/Documents/LocalHub/emotion_detector/emoji/anger.png'),\n",
    "    pathlib.Path('C:/Users/gimaevra94/Documents/LocalHub/emotion_detector/emoji/clown.png'),\n",
    "    pathlib.Path('C:/Users/gimaevra94/Documents/LocalHub/emotion_detector/emoji/fear.png'),\n",
    "    pathlib.Path('C:/Users/gimaevra94/Documents/LocalHub/emotion_detector/emoji/happy.png'),\n",
    "    pathlib.Path('C:/Users/gimaevra94/Documents/LocalHub/emotion_detector/emoji/neutral.png'),\n",
    "    pathlib.Path('C:/Users/gimaevra94/Documents/LocalHub/emotion_detector/emoji/sad.png'),\n",
    "    pathlib.Path('C:/Users/gimaevra94/Documents/LocalHub/emotion_detector/emoji/surprise.png')]\n",
    "\n",
    "emoji_array = [np.asarray(PIL.Image.open(emoji_path)) for emoji_path in emoji_paths_list]\n",
    "np.save('C:/Users/gimaevra94/Documents/LocalHub/emotion_detector/emoji/emoji_array.npy', emoji_array)'''"
   ]
  }
 ],
 "metadata": {
  "kernelspec": {
   "display_name": "Python 3 (ipykernel)",
   "language": "python",
   "name": "python3"
  },
  "language_info": {
   "codemirror_mode": {
    "name": "ipython",
    "version": 3
   },
   "file_extension": ".py",
   "mimetype": "text/x-python",
   "name": "python",
   "nbconvert_exporter": "python",
   "pygments_lexer": "ipython3",
   "version": "3.11.5"
  }
 },
 "nbformat": 4,
 "nbformat_minor": 5
}
