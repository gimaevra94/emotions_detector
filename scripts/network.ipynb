{
 "cells": [
  {
   "cell_type": "code",
   "execution_count": null,
   "metadata": {},
   "outputs": [],
   "source": [
    "from tensorflow.keras.layers import Conv2D\n",
    "from tensorflow.keras.layers import Normalization\n",
    "from tensorflow.keras.layers import Input\n",
    "from tensorflow.keras.layers import Concatenate\n",
    "from tensorflow.keras.layers import Conv2DTranspose\n",
    "from tensorflow.keras.layers import Flatten\n",
    "from tensorflow.keras.layers import Dense\n",
    "from tensorflow.keras.layers import Dropout\n",
    "from tensorflow.keras.layers import MaxPooling2D\n",
    "\n",
    "from tensorflow.keras.utils import image_dataset_from_directory\n",
    "from tensorflow.keras import Model\n",
    "from tensorflow.keras.optimizers import Adam\n",
    "from tensorflow.keras.callbacks import Callback\n",
    "\n",
    "from pathlib import Path\n",
    "from livelossplot import PlotLossesKeras"
   ]
  },
  {
   "cell_type": "code",
   "execution_count": null,
   "metadata": {
    "id": "2R2wiPCTXz9y"
   },
   "outputs": [],
   "source": [
    "# создание каталогов под классы\n",
    "path='C:/Users/gimaevra94/Documents/emotion_detector/data'\n",
    "\n",
    "base_dir=Path(path).parent/'data'\n",
    "train_dir=base_dir/'train'\n",
    "test_dir=base_dir/'test'\n",
    "val_dir=base_dir/'val'\n",
    "\n",
    "anger_dir=train_dir/'anger'\n",
    "disgust_dir=train_dir/'disgust'\n",
    "fear_dir=train_dir/'fear'\n",
    "happy_dir=train_dir/'happy'\n",
    "neutral_dir=train_dir/'neutral'\n",
    "sad_dir=train_dir/'sad'\n",
    "surprise_dir=train_dir/'surprise'\n",
    "\n",
    "anger_dir=test_dir/'anger'\n",
    "disgust_dir=test_dir/'disgust'\n",
    "fear_dir=test_dir/'fear'\n",
    "happy_dir=test_dir/'happy'\n",
    "neutral_dir=test_dir/'neutral'\n",
    "sad_dir=test_dir/'sad'\n",
    "surprise_dir=test_dir/'surprise'"
   ]
  },
  {
   "cell_type": "code",
   "execution_count": null,
   "metadata": {
    "colab": {
     "base_uri": "https://localhost:8080/"
    },
    "id": "eVc10YKUcjDa",
    "outputId": "b882cadf-be03-4cde-a52a-200a88328eca",
    "scrolled": false
   },
   "outputs": [],
   "source": [
    "train = image_dataset_from_directory(directory=train_dir,\n",
    "                                     label_mode='int',\n",
    "                                     color_mode='grayscale',\n",
    "                                     image_size=(64, 64),\n",
    "                                     crop_to_aspect_ratio=True,\n",
    "                                     shuffle=True)"
   ]
  },
  {
   "cell_type": "code",
   "execution_count": null,
   "metadata": {},
   "outputs": [],
   "source": [
    "test = image_dataset_from_directory(directory=test_dir,\n",
    "                                    label_mode='int',\n",
    "                                    color_mode='grayscale',\n",
    "                                    image_size=(64, 64),\n",
    "                                    crop_to_aspect_ratio=True,\n",
    "                                    shuffle=True)"
   ]
  },
  {
   "cell_type": "code",
   "execution_count": null,
   "metadata": {
    "scrolled": false
   },
   "outputs": [],
   "source": [
    "# я следовал архитектуре u-net\n",
    "inp=Input((64,64,1))\n",
    "\n",
    "# вход нормализуется\n",
    "norm=Normalization()(inp)\n",
    "\n",
    "# понижение размерности признакового пространсва\n",
    "# свертки со страйдом вместо макспулинга\n",
    "conv_0=Conv2D(8,3,padding='same',activation='relu')(norm)\n",
    "conv_str_0=Conv2D(1,3,2,padding='same',activation= 'relu')(conv_0)\n",
    "conv_1=Conv2D(16,3,padding='same',activation='relu')(conv_str_0)\n",
    "conv_str_1=Conv2D(1,3,2,padding='same',activation= 'relu')(conv_1)\n",
    "conv_2=Conv2D(32,3,padding='same',activation='relu')(conv_str_1)\n",
    "conv_str_2=Conv2D(1,3,2,padding='same',activation= 'relu')(conv_2)\n",
    "\n",
    "# дилатационные свертки\n",
    "dila_0=Conv2D(64,3,padding='same',activation='relu',dilation_rate=6)(conv_str_2)\n",
    "dila_1=Conv2D(64,3,padding='same',activation='relu',dilation_rate=12)(conv_str_2)\n",
    "dila_2=Conv2D(64,3,padding='same',activation='relu',dilation_rate=18)(conv_str_2)\n",
    "\n",
    "# склейка и перемешивание дилатационных сверток\n",
    "concat_0=Concatenate()([dila_0, dila_1, dila_2])\n",
    "conv_1x1_0=Conv2D(64,3,padding='same',activation='relu')(concat_0)\n",
    "\n",
    "# повышение размерности признакового пространсва и проброс инфы с более ранних слоев\n",
    "trans_0=Conv2DTranspose(32,3,2,padding='same',activation='relu')(conv_1x1_0)\n",
    "concat_1=Concatenate()([conv_2, trans_0])\n",
    "trans_1=Conv2DTranspose(16,3,2,padding='same',activation='relu')(concat_1)\n",
    "concat_2=Concatenate()([conv_1, trans_1])\n",
    "trans_2=Conv2DTranspose(8,3,2,padding='same',activation='relu')(concat_2)\n",
    "concat_3=Concatenate()([conv_0, trans_2])\n",
    "\n",
    "drop=Dropout(0.0001)(concat_3)\n",
    "flat=Flatten()(drop)\n",
    "out=Dense(7,activation='softmax')(flat)"
   ]
  },
  {
   "cell_type": "code",
   "execution_count": null,
   "metadata": {},
   "outputs": [],
   "source": [
    "model=Model(inputs=inp,outputs=out)"
   ]
  },
  {
   "cell_type": "code",
   "execution_count": null,
   "metadata": {
    "id": "ZvA_-H1mgy07",
    "scrolled": true
   },
   "outputs": [],
   "source": [
    "model.compile(\n",
    "    loss='sparse_categorical_crossentropy',\n",
    "    optimizer=Adam(learning_rate=0.0001),\n",
    "    metrics='accuracy')"
   ]
  },
  {
   "cell_type": "code",
   "execution_count": null,
   "metadata": {},
   "outputs": [],
   "source": [
    "# коллбек ловит val_loss на <=15%, останавливает сеть и сохраняет в файл\n",
    "class MyCallback(Callback):\n",
    "    def on_epoch_end(self,epoch,logs=None): \n",
    "        val_loss=logs[\"val_loss\"]\n",
    "        if val_loss<=0.1500:\n",
    "            self.model.stop_training=True\n",
    "            self.model.save('model.keras')"
   ]
  },
  {
   "cell_type": "code",
   "execution_count": null,
   "metadata": {
    "scrolled": false
   },
   "outputs": [],
   "source": [
    "history=model.fit(x=train,\n",
    "                    epochs=200,\n",
    "                    validation_data=test,\n",
    "                    # PlotLossesKeras() рисует график после каждой эпохи\n",
    "                    callbacks=[PlotLossesKeras(),MyCallback()]\n",
    "                   )"
   ]
  }
 ],
 "metadata": {
  "accelerator": "GPU",
  "colab": {
   "gpuType": "T4",
   "provenance": []
  },
  "kernelspec": {
   "display_name": "Python 3 (ipykernel)",
   "language": "python",
   "name": "python3"
  },
  "language_info": {
   "codemirror_mode": {
    "name": "ipython",
    "version": 3
   },
   "file_extension": ".py",
   "mimetype": "text/x-python",
   "name": "python",
   "nbconvert_exporter": "python",
   "pygments_lexer": "ipython3",
   "version": "3.11.5"
  }
 },
 "nbformat": 4,
 "nbformat_minor": 1
}
