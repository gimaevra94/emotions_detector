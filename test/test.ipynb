{
 "cells": [
  {
   "cell_type": "code",
   "execution_count": null,
   "id": "b20d03b7",
   "metadata": {
    "id": "b20d03b7",
    "scrolled": true
   },
   "outputs": [],
   "source": [
    "\"\"\"\n",
    "!pip install opencv-python\n",
    "!pip install tensorflow\n",
    "!pip install pillow\n",
    "\"\"\"\n",
    "\n",
    "import cv2\n",
    "import PIL\n",
    "import numpy as np\n",
    "import tensorflow as tf\n",
    "\n",
    "emoji_array=np.load('emoji.npy')\n",
    "model=tf.keras.models.load_model('model.h5')\n",
    "\n",
    "# создание окна трансляции с камеры\n",
    "cv2.namedWindow('Emotion Detector')\n",
    "\n",
    "# получение первой в списке камеры\n",
    "cap=cv2.VideoCapture(0)\n",
    "\n",
    "while True:\n",
    "    # считывание кадров (frame) с камеры\n",
    "    ret,frame=cap.read()\n",
    "\n",
    "    # преобразование кадров в однокональные изображения\n",
    "    frame_2=frame[0:len(frame[1]),0:len(frame[0]),1]/255.0\n",
    "\n",
    "    # преобразование кадров в формат для PIL\n",
    "    img=PIL.Image.fromarray(frame_2)\n",
    "\n",
    "    # преобразование кадров в равносторонние изображения размером 80 на 80\n",
    "    if img.size[0]>80 or img.size[1]>80:\n",
    "        if img.size[0]>img.size[1]:\n",
    "            left=(img.size[0]-img.size[1])/2\n",
    "            right=img.size[0]-left\n",
    "        else:\n",
    "            left=(img.size[1]-img.size[0])/2\n",
    "            right=img.size[1]-left\n",
    "\n",
    "    img=img.crop((left,0,right,img.size[1])).resize((80,80))\n",
    "\n",
    "    # добавление размерности для model.predict()\n",
    "    img=np.asarray(img)[None,...]\n",
    "\n",
    "    # предстказание\n",
    "    img=emoji_array[np.argmax(model.predict(img))]\n",
    "\n",
    "    # преобразование предстказания в трехканальное изображение\n",
    "    img=cv2.cvtColor(img,cv2.COLOR_BGR2RGB)\n",
    "\n",
    "    # наложение изоображения предстказания на трансляцию камеры\n",
    "    result=cv2.addWeighted(frame[320:480,480:640],1,img,0.5,0)\n",
    "    frame[320:480, 480:640]=result\n",
    "\n",
    "    # отрисовка изображения с трансляции\n",
    "    cv2.imshow('Emotion Detector',frame)\n",
    "\n",
    "    # остановка программы по нажатию escape\n",
    "    if cv2.waitKey(1)==27:\n",
    "        break\n",
    "\n",
    "# освобождение камеры\n",
    "cap.release()\n",
    "\n",
    "# закрытие окна\n",
    "cv2.destroyAllWindows()"
   ]
  }
 ],
 "metadata": {
  "accelerator": "GPU",
  "colab": {
   "gpuType": "T4",
   "provenance": []
  },
  "kernelspec": {
   "display_name": "Python 3 (ipykernel)",
   "language": "python",
   "name": "python3"
  },
  "language_info": {
   "codemirror_mode": {
    "name": "ipython",
    "version": 3
   },
   "file_extension": ".py",
   "mimetype": "text/x-python",
   "name": "python",
   "nbconvert_exporter": "python",
   "pygments_lexer": "ipython3",
   "version": "3.11.5"
  }
 },
 "nbformat": 4,
 "nbformat_minor": 5
}
