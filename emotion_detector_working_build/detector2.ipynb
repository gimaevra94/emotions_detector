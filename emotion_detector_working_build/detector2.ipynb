{
 "cells": [
  {
   "cell_type": "code",
   "execution_count": 1,
   "id": "b20d03b7",
   "metadata": {
    "id": "b20d03b7",
    "scrolled": false
   },
   "outputs": [],
   "source": [
    "from cv2 import namedWindow, VideoCapture, cvtColor, COLOR_BGR2RGB, addWeighted, imshow, waitKey, destroyAllWindows\n",
    "from PIL import Image\n",
    "from numpy import argmax, asarray, load\n",
    "import cv2\n",
    "from tensorflow.keras.models import load_model\n",
    "from os import path"
   ]
  },
  {
   "cell_type": "code",
   "execution_count": 2,
   "id": "cd6342a8",
   "metadata": {
    "scrolled": true
   },
   "outputs": [
    {
     "name": "stdout",
     "output_type": "stream",
     "text": [
      "Defaulting to user installation because normal site-packages is not writeable\n",
      "Requirement already satisfied: pillow in c:\\programdata\\anaconda3\\lib\\site-packages (9.4.0)\n"
     ]
    }
   ],
   "source": [
    "!pip install pillow"
   ]
  },
  {
   "cell_type": "code",
   "execution_count": 3,
   "id": "02cf290f",
   "metadata": {
    "scrolled": true
   },
   "outputs": [],
   "source": [
    "# получение пути исполняемого файла\n",
    "detector2_path=path.abspath(open('detector2.ipynb').name)\n",
    "\n",
    "# получение директории исполняемого файла\n",
    "main_dir_path=path.dirname(path.abspath(detector2_path))\n",
    "\n",
    "# получение пути emoji_array.npy\n",
    "emoji_array_path=path.join(main_dir_path, 'emoji_array.npy')\n",
    "\n",
    "# получение пути model.h5\n",
    "model_path=path.join(main_dir_path, 'model_old.h5')"
   ]
  },
  {
   "cell_type": "code",
   "execution_count": 4,
   "id": "401746dc",
   "metadata": {},
   "outputs": [],
   "source": [
    "# получение массива emoji модели\n",
    "emoji_array=load(emoji_array_path)\n",
    "model=load_model(model_path)"
   ]
  },
  {
   "cell_type": "code",
   "execution_count": 5,
   "id": "b95e07d4",
   "metadata": {
    "id": "b95e07d4",
    "scrolled": false
   },
   "outputs": [
    {
     "name": "stdout",
     "output_type": "stream",
     "text": [
      "1/1 [==============================] - 0s 194ms/step\n",
      "1/1 [==============================] - 0s 17ms/step\n",
      "1/1 [==============================] - 0s 17ms/step\n",
      "1/1 [==============================] - 0s 16ms/step\n",
      "1/1 [==============================] - 0s 16ms/step\n",
      "1/1 [==============================] - 0s 15ms/step\n",
      "1/1 [==============================] - 0s 16ms/step\n",
      "1/1 [==============================] - 0s 15ms/step\n",
      "1/1 [==============================] - 0s 15ms/step\n",
      "1/1 [==============================] - 0s 17ms/step\n",
      "1/1 [==============================] - 0s 16ms/step\n",
      "1/1 [==============================] - 0s 17ms/step\n",
      "1/1 [==============================] - 0s 15ms/step\n",
      "1/1 [==============================] - 0s 16ms/step\n",
      "1/1 [==============================] - 0s 15ms/step\n",
      "1/1 [==============================] - 0s 16ms/step\n",
      "1/1 [==============================] - 0s 16ms/step\n",
      "1/1 [==============================] - 0s 15ms/step\n",
      "1/1 [==============================] - 0s 15ms/step\n",
      "1/1 [==============================] - 0s 15ms/step\n",
      "1/1 [==============================] - 0s 16ms/step\n",
      "1/1 [==============================] - 0s 15ms/step\n",
      "1/1 [==============================] - 0s 15ms/step\n",
      "1/1 [==============================] - 0s 16ms/step\n",
      "1/1 [==============================] - 0s 16ms/step\n",
      "1/1 [==============================] - 0s 16ms/step\n",
      "1/1 [==============================] - 0s 16ms/step\n",
      "1/1 [==============================] - 0s 16ms/step\n",
      "1/1 [==============================] - 0s 16ms/step\n",
      "1/1 [==============================] - 0s 16ms/step\n",
      "1/1 [==============================] - 0s 16ms/step\n",
      "1/1 [==============================] - 0s 15ms/step\n",
      "1/1 [==============================] - 0s 16ms/step\n",
      "1/1 [==============================] - 0s 15ms/step\n",
      "1/1 [==============================] - 0s 16ms/step\n",
      "1/1 [==============================] - 0s 16ms/step\n",
      "1/1 [==============================] - 0s 16ms/step\n",
      "1/1 [==============================] - 0s 16ms/step\n",
      "1/1 [==============================] - 0s 16ms/step\n",
      "1/1 [==============================] - 0s 17ms/step\n",
      "1/1 [==============================] - 0s 16ms/step\n",
      "1/1 [==============================] - 0s 16ms/step\n",
      "1/1 [==============================] - 0s 17ms/step\n",
      "1/1 [==============================] - 0s 16ms/step\n",
      "1/1 [==============================] - 0s 16ms/step\n",
      "1/1 [==============================] - 0s 17ms/step\n",
      "1/1 [==============================] - 0s 16ms/step\n",
      "1/1 [==============================] - 0s 16ms/step\n",
      "1/1 [==============================] - 0s 16ms/step\n",
      "1/1 [==============================] - 0s 16ms/step\n",
      "1/1 [==============================] - 0s 16ms/step\n",
      "1/1 [==============================] - 0s 16ms/step\n",
      "1/1 [==============================] - 0s 16ms/step\n",
      "1/1 [==============================] - 0s 16ms/step\n",
      "1/1 [==============================] - 0s 16ms/step\n",
      "1/1 [==============================] - 0s 17ms/step\n",
      "1/1 [==============================] - 0s 16ms/step\n",
      "1/1 [==============================] - 0s 16ms/step\n"
     ]
    }
   ],
   "source": [
    "# создание окна трансляции с камеры\n",
    "namedWindow('Emotion Detector')\n",
    "\n",
    "# получение первой в списке камеры\n",
    "cap=VideoCapture(0)\n",
    "\n",
    "while True:\n",
    "    # считывание кадров (frame) с камеры\n",
    "    ret, frame=cap.read()\n",
    "    \n",
    "    # преобразование кадров в однокональные изображения\n",
    "    frame_2 = frame[0:len(frame[1]),0:len(frame[0]),1]\n",
    "    \n",
    "    # преобразование кадров в формат для PIL\n",
    "    img = Image.fromarray(frame_2)\n",
    "    \n",
    "    # преобразование кадров в равносторонние изображения размером 48 на 48\n",
    "    if img.size[0]>64 or img.size[1]>64:\n",
    "        if img.size[0]>img.size[1]:\n",
    "            left=(img.size[0]-img.size[1])/2\n",
    "            right=img.size[0]-left\n",
    "        else:\n",
    "            left=(img.size[1]-img.size[0])/2\n",
    "            right=img.size[1]-left\n",
    "            \n",
    "    img = img.crop((left,0,right,img.size[1])).resize((64,64))\n",
    "        \n",
    "    # добавление размерности для model.predict()\n",
    "    img = asarray(img)\n",
    "    img = img[None,...]\n",
    "    \n",
    "    # предстказание\n",
    "    img = emoji_array[argmax(model.predict(img))]\n",
    "    \n",
    "    # преобразование предстказания в трехканальное изображение\n",
    "    img = cvtColor(img, COLOR_BGR2RGB)\n",
    "    \n",
    "    # наложение изоображения предстказания на трансляцию камеры\n",
    "    result = addWeighted(frame[320:480, 480:640],1, img, 0.5, 0)\n",
    "    frame[320:480, 480:640] = result\n",
    "    \n",
    "    # отрисовка frame со всеми вышеуказанными преобразованиями в реальном времени в окне namedWindow('Emotion Detector')\n",
    "    imshow('Emotion Detector', frame)\n",
    "    \n",
    "    # остановка программы по нажатию escape\n",
    "    if waitKey(1)==27:\n",
    "        break\n",
    "\n",
    "# освобождение камеры\n",
    "cap.release()\n",
    "\n",
    "# закрытие окна\n",
    "destroyAllWindows()"
   ]
  }
 ],
 "metadata": {
  "accelerator": "GPU",
  "colab": {
   "gpuType": "T4",
   "provenance": []
  },
  "kernelspec": {
   "display_name": "Python 3 (ipykernel)",
   "language": "python",
   "name": "python3"
  },
  "language_info": {
   "codemirror_mode": {
    "name": "ipython",
    "version": 3
   },
   "file_extension": ".py",
   "mimetype": "text/x-python",
   "name": "python",
   "nbconvert_exporter": "python",
   "pygments_lexer": "ipython3",
   "version": "3.11.5"
  }
 },
 "nbformat": 4,
 "nbformat_minor": 5
}
